{
  "nbformat": 4,
  "nbformat_minor": 0,
  "metadata": {
    "colab": {
      "provenance": []
    },
    "kernelspec": {
      "name": "python3",
      "display_name": "Python 3"
    },
    "language_info": {
      "name": "python"
    }
  },
  "cells": [
    {
      "cell_type": "code",
      "execution_count": 2,
      "metadata": {
        "id": "gosFwC3G-R7q"
      },
      "outputs": [],
      "source": [
        "import pandas as pd\n",
        "import numpy as np\n",
        "import matplotlib.pyplot as plt\n",
        "from sklearn.preprocessing import StandardScaler\n",
        "from sklearn.model_selection import train_test_split"
      ]
    },
    {
      "cell_type": "markdown",
      "source": [
        "**Data Preprocessing**"
      ],
      "metadata": {
        "id": "Zsyt06Y8-ZV4"
      }
    },
    {
      "cell_type": "code",
      "source": [
        "df = pd.read_csv('datasets_house_prices.csv')"
      ],
      "metadata": {
        "id": "FKbppjeg-X9u"
      },
      "execution_count": 7,
      "outputs": []
    },
    {
      "cell_type": "markdown",
      "source": [
        "1. Checking for Missing Values"
      ],
      "metadata": {
        "id": "1jD0bhhq-fZx"
      }
    },
    {
      "cell_type": "code",
      "source": [
        "print(df.isnull().sum())"
      ],
      "metadata": {
        "colab": {
          "base_uri": "https://localhost:8080/"
        },
        "id": "vLbzXHtA-d7N",
        "outputId": "56c119c5-c316-4028-edbe-6b12458c791c"
      },
      "execution_count": 8,
      "outputs": [
        {
          "output_type": "stream",
          "name": "stdout",
          "text": [
            "Size (sqft)                      0\n",
            "Bedrooms                         0\n",
            "Age                              0\n",
            "Proximity to Downtown (miles)    0\n",
            "Price                            0\n",
            "dtype: int64\n"
          ]
        }
      ]
    },
    {
      "cell_type": "markdown",
      "source": [
        "2. Normalizing the Features"
      ],
      "metadata": {
        "id": "K7CzCTcK-o1c"
      }
    },
    {
      "cell_type": "code",
      "source": [
        "scaler = StandardScaler()\n",
        "X = scaler.fit_transform(df[['Size (sqft)', 'Bedrooms', 'Age']])\n",
        "y = df['Price']\n"
      ],
      "metadata": {
        "id": "sw7aA_ru-mYb"
      },
      "execution_count": 9,
      "outputs": []
    },
    {
      "cell_type": "markdown",
      "source": [
        "**Model Implementation**"
      ],
      "metadata": {
        "id": "ldip-PIu-ysk"
      }
    },
    {
      "cell_type": "markdown",
      "source": [
        "1. Implementing Linear Regression"
      ],
      "metadata": {
        "id": "uKV3RDP3-uvi"
      }
    },
    {
      "cell_type": "code",
      "source": [
        "def linear_regression(X, y):\n",
        "    X = np.c_[np.ones(len(X)), X]  # Add bias term\n",
        "    theta = np.linalg.pinv(X.T @ X) @ X.T @ y  # Calculate model parameters\n",
        "    return theta[0], theta[1:]\n",
        "\n",
        "def predict(X, theta0, theta):\n",
        "    return theta0 + X @ theta  # Predict house prices"
      ],
      "metadata": {
        "id": "xJ5q9iqa-1ZI"
      },
      "execution_count": 10,
      "outputs": []
    },
    {
      "cell_type": "markdown",
      "source": [
        "**Model Training**"
      ],
      "metadata": {
        "id": "zNdggD1i-253"
      }
    },
    {
      "cell_type": "markdown",
      "source": [
        "1. Splitting the Dataset"
      ],
      "metadata": {
        "id": "fXWzKNLC-7Oe"
      }
    },
    {
      "cell_type": "code",
      "source": [
        "X_train, X_test, y_train, y_test = train_test_split(X, y, test_size=0.2, random_state=42)\n"
      ],
      "metadata": {
        "id": "mXeSaaiu-5Bx"
      },
      "execution_count": 11,
      "outputs": []
    },
    {
      "cell_type": "markdown",
      "source": [
        "2. Training the Model"
      ],
      "metadata": {
        "id": "OI0FFLlN_AmF"
      }
    },
    {
      "cell_type": "code",
      "source": [
        "theta0, theta = linear_regression(X_train, y_train)"
      ],
      "metadata": {
        "id": "0L9ufL8t_CXZ"
      },
      "execution_count": 12,
      "outputs": []
    },
    {
      "cell_type": "markdown",
      "source": [
        "3. Calculating Mean Squared Error (MSE)"
      ],
      "metadata": {
        "id": "rEsFaL04_D49"
      }
    },
    {
      "cell_type": "code",
      "source": [
        "y_train_pred = predict(X_train, theta0, theta)\n",
        "mse_train = np.mean((y_train - y_train_pred) ** 2)\n",
        "print(f'Training MSE: {mse_train:.2f}')"
      ],
      "metadata": {
        "colab": {
          "base_uri": "https://localhost:8080/"
        },
        "id": "gTldPbb8_Hw5",
        "outputId": "632e14c2-871b-4b00-f804-fc51b2b229ed"
      },
      "execution_count": 13,
      "outputs": [
        {
          "output_type": "stream",
          "name": "stdout",
          "text": [
            "Training MSE: 170277648.52\n"
          ]
        }
      ]
    },
    {
      "cell_type": "markdown",
      "source": [
        "**Model Evaluation**"
      ],
      "metadata": {
        "id": "Iys4e8GB_aTP"
      }
    },
    {
      "cell_type": "markdown",
      "source": [
        "1. Testing the Model"
      ],
      "metadata": {
        "id": "TZmDXNm6_cHU"
      }
    },
    {
      "cell_type": "code",
      "source": [
        "y_test_pred = predict(X_test, theta0, theta)\n",
        "mse_test = np.mean((y_test - y_test_pred) ** 2)\n",
        "print(f'Testing MSE: {mse_test:.2f}')"
      ],
      "metadata": {
        "colab": {
          "base_uri": "https://localhost:8080/"
        },
        "id": "my-OFwx3_dL8",
        "outputId": "df4e4454-be1d-40a9-fe13-46c680b87ec2"
      },
      "execution_count": 14,
      "outputs": [
        {
          "output_type": "stream",
          "name": "stdout",
          "text": [
            "Testing MSE: 167882080.37\n"
          ]
        }
      ]
    },
    {
      "cell_type": "markdown",
      "source": [
        "2. Visualizing the Results"
      ],
      "metadata": {
        "id": "euJy-rWE_ea8"
      }
    },
    {
      "cell_type": "code",
      "source": [
        "plt.figure(figsize=(8, 6))\n",
        "plt.scatter(X_test[:, 1], y_test, c='b', label='Actual')\n",
        "plt.scatter(X_test[:, 1], y_test_pred, c='r', label='Predicted')\n",
        "plt.xlabel('Size (sqft)')\n",
        "plt.ylabel('Price')\n",
        "plt.title('Linear Regression')\n",
        "plt.legend()\n",
        "plt.show()"
      ],
      "metadata": {
        "colab": {
          "base_uri": "https://localhost:8080/",
          "height": 564
        },
        "id": "kIKZYpJW_gEX",
        "outputId": "9d3551e3-6411-4d6e-8297-9350398546bd"
      },
      "execution_count": 15,
      "outputs": [
        {
          "output_type": "display_data",
          "data": {
            "text/plain": [
              "<Figure size 800x600 with 1 Axes>"
            ],
            "image/png": "[encoded data removed]"
          },
          "metadata": {}
        }
      ]
    },
    {
      "cell_type": "markdown",
      "source": [
        "**Report Summary**"
      ],
      "metadata": {
        "id": "uUIoaJ10_hWw"
      }
    },
    {
      "cell_type": "code",
      "source": [
        "report = \"\"\"\n",
        "For this project, we used Python to create a basic linear regression model from scratch that predicts\n",
        "Prices of homes are determined by factors including size, number of bedrooms, and age.\n",
        "After loading the dataset into a Pandas DataFrame, any missing values were identified and dealt with.\n",
        "suitably. In order to establish a comparable scale for the features, normalization was carried out utilizing\n",
        "the scikit-learn StandardScaler.\n",
        "\n",
        "Python was used to implement the linear regression model; scikit-learn or other pre-built libraries were not used.\n",
        "The least squares method was used to determine the model's parameters (slope and intercept), and a function was created.\n",
        "to forecast home values by using input features.\n",
        "\n",
        "The linear regression model was trained on the training set of the dataset after it was divided into training and testing sets.\n",
        "To evaluate the model's fit, the training data were used to compute the Mean Squared Error (MSE). Next, the skilled model was\n",
        "tested using the testing set, and the test data's MSE was calculated. To see how well the model performs, a plot\n",
        "the test data points and the regression line were produced.\n",
        "\"\"\"\n",
        "print(report)"
      ],
      "metadata": {
        "colab": {
          "base_uri": "https://localhost:8080/"
        },
        "id": "jRALcKRR_jkF",
        "outputId": "b88dfee2-5d60-427f-a85b-a7574d1a8c22"
      },
      "execution_count": 16,
      "outputs": [
        {
          "output_type": "stream",
          "name": "stdout",
          "text": [
            "\n",
            "For this project, we used Python to create a basic linear regression model from scratch that predicts\n",
            "Prices of homes are determined by factors including size, number of bedrooms, and age.\n",
            "After loading the dataset into a Pandas DataFrame, any missing values were identified and dealt with.\n",
            "suitably. In order to establish a comparable scale for the features, normalization was carried out utilizing\n",
            "the scikit-learn StandardScaler.\n",
            "\n",
            "Python was used to implement the linear regression model; scikit-learn or other pre-built libraries were not used.\n",
            "The least squares method was used to determine the model's parameters (slope and intercept), and a function was created.\n",
            "to forecast home values by using input features.\n",
            "\n",
            "The linear regression model was trained on the training set of the dataset after it was divided into training and testing sets.\n",
            "To evaluate the model's fit, the training data were used to compute the Mean Squared Error (MSE). Next, the skilled model was\n",
            "tested using the testing set, and the test data's MSE was calculated. To see how well the model performs, a plot\n",
            "the test data points and the regression line were produced.\n",
            "\n"
          ]
        }
      ]
    }
  ]
}