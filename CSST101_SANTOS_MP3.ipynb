{
  "nbformat": 4,
  "nbformat_minor": 0,
  "metadata": {
    "colab": {
      "provenance": []
    },
    "kernelspec": {
      "name": "python3",
      "display_name": "Python 3"
    },
    "language_info": {
      "name": "python"
    }
  },
  "cells": [
    {
      "cell_type": "markdown",
      "source": [
        "# Part 1: Implement Basic Probability Calculations"
      ],
      "metadata": {
        "id": "SxgOvP7pyxW4"
      }
    },
    {
      "cell_type": "code",
      "execution_count": 2,
      "metadata": {
        "colab": {
          "base_uri": "https://localhost:8080/"
        },
        "id": "JJ_lIce2yVb1",
        "outputId": "d4f70530-2182-46de-a1e2-f13fa140e9fc"
      },
      "outputs": [
        {
          "output_type": "stream",
          "name": "stdout",
          "text": [
            "Part 1: Basic Probability Calculations\n",
            "Enter the probability of event A (0 to 1): 0\n",
            "Enter the probability of event B (0 to 1): 1\n",
            "Joint Probability P(A and B): 0.0000\n",
            "Marginal Probability P(A): 0.0000\n",
            "Enter the conditional probability P(A|B): 1\n",
            "Conditional Probability P(A|B): 1.0000\n"
          ]
        }
      ],
      "source": [
        "import numpy as np\n",
        "\n",
        "def joint_probability(p_a, p_b):\n",
        "    \"\"\"Calculate joint probability of independent events A and B.\"\"\"\n",
        "    return p_a * p_b\n",
        "\n",
        "def marginal_probability(joint_probs):\n",
        "    \"\"\"Calculate marginal probability from joint probabilities.\"\"\"\n",
        "    return sum(joint_probs)\n",
        "\n",
        "def conditional_probability(p_a_given_b, p_b):\n",
        "    \"\"\"Calculate conditional probability using Bayes' theorem.\"\"\"\n",
        "    return p_a_given_b * p_b\n",
        "\n",
        "def part1_interactive():\n",
        "    print(\"Part 1: Basic Probability Calculations\")\n",
        "    p_a = float(input(\"Enter the probability of event A (0 to 1): \"))\n",
        "    p_b = float(input(\"Enter the probability of event B (0 to 1): \"))\n",
        "\n",
        "    joint_prob = joint_probability(p_a, p_b)\n",
        "    print(f\"Joint Probability P(A and B): {joint_prob:.4f}\")\n",
        "\n",
        "    marginal_prob_a = marginal_probability([joint_prob])  # Simplified for one joint event\n",
        "    print(f\"Marginal Probability P(A): {marginal_prob_a:.4f}\")\n",
        "\n",
        "    p_a_given_b = float(input(\"Enter the conditional probability P(A|B): \"))\n",
        "    conditional_prob = conditional_probability(p_a_given_b, p_b)\n",
        "    print(f\"Conditional Probability P(A|B): {conditional_prob:.4f}\")\n",
        "\n",
        "# Run Part 1\n",
        "part1_interactive()"
      ]
    },
    {
      "cell_type": "markdown",
      "source": [
        "# Part 2: Bayesian Inference for Real-World Scenarios"
      ],
      "metadata": {
        "id": "B6qg0uZzy1W_"
      }
    },
    {
      "cell_type": "code",
      "source": [
        "def bayesian_inference(prior, likelihood, evidence):\n",
        "    \"\"\"Update the probability of having a disease based on new evidence.\"\"\"\n",
        "    posterior = (likelihood * prior) / evidence\n",
        "    return posterior\n",
        "\n",
        "def part2_interactive():\n",
        "    print(\"\\nPart 2: Bayesian Inference\")\n",
        "    prior = float(input(\"Enter the prior probability of having the disease (0 to 1): \"))\n",
        "    likelihood = float(input(\"Enter the likelihood of a positive test given the disease (0 to 1): \"))\n",
        "    evidence = float(input(\"Enter the overall probability of a positive test (0 to 1): \"))\n",
        "\n",
        "    posterior = bayesian_inference(prior, likelihood, evidence)\n",
        "    print(f\"Posterior Probability of having the disease after a positive test: {posterior:.4f}\")\n",
        "\n",
        "# Run Part 2\n",
        "part2_interactive()"
      ],
      "metadata": {
        "id": "F_fJQlIyylHf",
        "colab": {
          "base_uri": "https://localhost:8080/"
        },
        "outputId": "d9252acd-d1cd-40a8-e0b7-53323c344855"
      },
      "execution_count": 3,
      "outputs": [
        {
          "output_type": "stream",
          "name": "stdout",
          "text": [
            "\n",
            "Part 2: Bayesian Inference\n",
            "Enter the prior probability of having the disease (0 to 1): 1\n",
            "Enter the likelihood of a positive test given the disease (0 to 1): 1\n",
            "Enter the overall probability of a positive test (0 to 1): 1\n",
            "Posterior Probability of having the disease after a positive test: 1.0000\n"
          ]
        }
      ]
    },
    {
      "cell_type": "markdown",
      "source": [
        "# Part 3: Simulate Decision-Making Under Uncertainty"
      ],
      "metadata": {
        "id": "RZcnpc8Wy3s3"
      }
    },
    {
      "cell_type": "code",
      "source": [
        "def decision_simulation(prob_success, reward, penalty, trials):\n",
        "    \"\"\"Simulate decision-making process with uncertain outcomes.\"\"\"\n",
        "    returns = []\n",
        "\n",
        "    for _ in range(trials):\n",
        "        if np.random.rand() < prob_success:\n",
        "            returns.append(reward)\n",
        "        else:\n",
        "            returns.append(-penalty)\n",
        "\n",
        "    average_return = np.mean(returns)\n",
        "    return average_return\n",
        "\n",
        "def part3_interactive():\n",
        "    print(\"\\nPart 3: Decision-Making Simulation\")\n",
        "    prob_success = float(input(\"Enter the probability of success (0 to 1): \"))\n",
        "    reward = float(input(\"Enter the reward amount for success: \"))\n",
        "    penalty = float(input(\"Enter the penalty amount for failure: \"))\n",
        "\n",
        "    trials = int(input(\"Enter the number of trials for simulation: \"))\n",
        "\n",
        "    avg_return = decision_simulation(prob_success, reward, penalty, trials)\n",
        "    print(f\"Average Return from {trials} trials: {avg_return:.4f}\")\n",
        "\n",
        "# Run Part 3\n",
        "part3_interactive()"
      ],
      "metadata": {
        "id": "ZlAgQ8hUynLz"
      },
      "execution_count": null,
      "outputs": []
    },
    {
      "cell_type": "markdown",
      "source": [
        "# Part 4: Visualize Probability Distributions"
      ],
      "metadata": {
        "id": "Drv1v77Ay58u"
      }
    },
    {
      "cell_type": "code",
      "source": [
        "import numpy as np\n",
        "import matplotlib.pyplot as plt\n",
        "\n",
        "def visualize_coin_flip_distribution(n, p):\n",
        "    \"\"\"Generate and visualize binomial distribution for coin flips.\"\"\"\n",
        "\n",
        "    pmf = np.random.binomial(n, p, size=10000)\n",
        "\n",
        "\n",
        "    plt.hist(pmf, bins=n+1, density=True, alpha=0.6, color='skyblue')\n",
        "    plt.title(f'Binomial Distribution: Coin Flips (n={n}, p={p})')\n",
        "    plt.xlabel('Number of Heads')\n",
        "    plt.ylabel('Probability')\n",
        "    plt.xticks(range(n + 1))\n",
        "    plt.grid(axis='y', alpha=0.75)\n",
        "    plt.show()\n",
        "\n",
        "def flip_coin(n, choice):\n",
        "    \"\"\"Simulate flipping a coin n times and return results.\"\"\"\n",
        "    outcomes = np.random.binomial(1, 0.5, n)\n",
        "    heads_count = np.sum(outcomes)\n",
        "\n",
        "\n",
        "    if choice == 'heads':\n",
        "        print(f\"You chose Heads! You got Heads {heads_count} times.\")\n",
        "    else:\n",
        "        print(f\"You chose Tails! You got Tails {n - heads_count} times.\")\n",
        "\n",
        "    return heads_count\n",
        "\n",
        "def part4_interactive():\n",
        "    print(\"\\nPart 4: Visualize Probability Distributions\")\n",
        "\n",
        "\n",
        "    n = int(input(\"Enter the number of coin flips (n): \"))\n",
        "\n",
        "\n",
        "    choice = input(\"Choose your side (heads/tails): \").strip().lower()\n",
        "\n",
        "    if choice not in ['heads', 'tails']:\n",
        "        print(\"Invalid choice. Please choose 'heads' or 'tails'.\")\n",
        "        return\n",
        "\n",
        "\n",
        "    heads_count = flip_coin(n, choice)\n",
        "\n",
        "\n",
        "    visualize_coin_flip_distribution(n, 0.5)\n",
        "\n",
        "\n",
        "part4_interactive()"
      ],
      "metadata": {
        "id": "Uw_g2GT8yoos"
      },
      "execution_count": null,
      "outputs": []
    },
    {
      "cell_type": "markdown",
      "source": [
        "# Part 5: Real-World Scenario Prediction"
      ],
      "metadata": {
        "id": "-22po4kIyvNh"
      }
    },
    {
      "cell_type": "code",
      "source": [
        "def predict_rain(humidity, cloud_cover):\n",
        "    \"\"\"Predict rain probability based on humidity and cloud cover.\"\"\"\n",
        "    # Simple model for demonstration purposes\n",
        "    rain_probability = min(1.0, humidity * cloud_cover / 100)\n",
        "    return rain_probability\n",
        "\n",
        "def part5_interactive():\n",
        "    print(\"\\nPart 5: Rain Prediction\")\n",
        "    humidity = float(input(\"Enter humidity (%): \"))\n",
        "    cloud_cover = float(input(\"Enter cloud cover (%): \"))\n",
        "\n",
        "    rain_prob = predict_rain(humidity, cloud_cover)\n",
        "    print(f\"Probability of rain based on inputs: {rain_prob:.4f}\")\n",
        "\n",
        "# Run Part 5\n",
        "part5_interactive()"
      ],
      "metadata": {
        "id": "VDbrsd-jyqZb",
        "colab": {
          "base_uri": "https://localhost:8080/"
        },
        "outputId": "f8cb36b9-ccea-4c9f-f4ea-26e2403f5c7d"
      },
      "execution_count": 4,
      "outputs": [
        {
          "output_type": "stream",
          "name": "stdout",
          "text": [
            "\n",
            "Part 5: Rain Prediction\n",
            "Enter humidity (%): 1\n",
            "Enter cloud cover (%): 1\n",
            "Probability of rain based on inputs: 0.0100\n"
          ]
        }
      ]
    }
  ]
}
