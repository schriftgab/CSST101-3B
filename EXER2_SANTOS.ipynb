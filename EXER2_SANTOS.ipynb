{
  "cells": [
    {
      "cell_type": "markdown",
      "metadata": {
        "id": "UWJs3MmZVC64"
      },
      "source": [
        "# **Assessment Task 1: Basic Probability Calculations**"
      ]
    },
    {
      "cell_type": "code",
      "execution_count": null,
      "metadata": {
        "id": "aMEVSJ2XCdri"
      },
      "outputs": [],
      "source": [
        "def joint_probability(p_A, p_B, p_A_given_B=None, p_B_given_A=None):\n",
        "    if p_A_given_B is not None and p_B_given_A is not None:\n",
        "        return p_A * p_B_given_A\n",
        "    elif p_A_given_B is not None:\n",
        "        return p_A * p_B\n",
        "    elif p_B_given_A is not None:\n",
        "        return p_B * p_A\n",
        "    else:\n",
        "        return p_A * p_B\n",
        "\n",
        "def marginal_probability(p_A, p_B, p_A_and_B):\n",
        "    return p_A + p_B - p_A_and_B\n",
        "\n",
        "def conditional_probability(p_A_and_B, p_B):\n",
        "    return p_A_and_B / p_B"
      ]
    },
    {
      "cell_type": "code",
      "execution_count": null,
      "metadata": {
        "colab": {
          "base_uri": "https://localhost:8080/"
        },
        "id": "WoBI0deHCYnE",
        "outputId": "d7309808-c2d8-4d87-9ac9-85dd552be024"
      },
      "outputs": [
        {
          "name": "stdout",
          "output_type": "stream",
          "text": [
            "If the probability of event A is 0.3 and the probability of event B is 0.4,\n",
            "What is the joint probability of A and B assuming they are independent? 12\n",
            "Incorrect. The correct joint probability is: 0.12.\n",
            "Hint: Remember that for independent events, P(A and B) = P(A) * P(B).\n"
          ]
        }
      ],
      "source": [
        "def joint_probability(p_A, p_B):\n",
        "    return p_A * p_B\n",
        "\n",
        "p_A = 0.3\n",
        "p_B = 0.4\n",
        "\n",
        "calculated_joint_prob = joint_probability(p_A, p_B)\n",
        "\n",
        "print(\"If the probability of event A is 0.3 and the probability of event B is 0.4,\")\n",
        "user_input = float(input(\"What is the joint probability of A and B assuming they are independent? \"))\n",
        "\n",
        "if user_input == calculated_joint_prob:\n",
        "    print(f\"Correct! The joint probability of A and B is: {calculated_joint_prob:.2f}\")\n",
        "    print(\"Explanation: Since A and B are independent, P(A and B) = P(A) * P(B) = 0.3 * 0.4 = 0.12.\")\n",
        "else:\n",
        "    print(f\"Incorrect. The correct joint probability is: {calculated_joint_prob:.2f}.\")\n",
        "    print(\"Hint: Remember that for independent events, P(A and B) = P(A) * P(B).\")"
      ]
    },
    {
      "cell_type": "markdown",
      "metadata": {
        "id": "u0S4yT83VIyd"
      },
      "source": [
        "# **Assessment Task 2: Bayesian Inference**"
      ]
    },
    {
      "cell_type": "code",
      "execution_count": null,
      "metadata": {
        "colab": {
          "background_save": true
        },
        "id": "XlNMJJTJVMfs",
        "outputId": "66c3ae0c-8725-4204-ced7-16ca503132ad"
      },
      "outputs": [
        {
          "name": "stdout",
          "output_type": "stream",
          "text": [
            "The posterior probability of having the disease given a positive test result is: 0.0876\n"
          ]
        }
      ],
      "source": [
        "def bayesian_inference(prior, sensitivity, specificity):\n",
        "\n",
        "\n",
        "    likelihood = sensitivity\n",
        "\n",
        "    marginal_likelihood = (likelihood * prior) + ((1 - specificity) * (1 - prior))\n",
        "\n",
        "    posterior = (likelihood * prior) / marginal_likelihood\n",
        "\n",
        "    return posterior\n",
        "\n",
        "prior_probability = 0.01\n",
        "sensitivity = 0.95\n",
        "specificity = 0.90\n",
        "\n",
        "posterior_probability = bayesian_inference(prior_probability, sensitivity, specificity)\n",
        "\n",
        "print(f\"The posterior probability of having the disease given a positive test result is: {posterior_probability:.4f}\")"
      ]
    },
    {
      "cell_type": "code",
      "execution_count": null,
      "metadata": {
        "colab": {
          "background_save": true
        },
        "id": "ZlGFxT2XVoIW",
        "outputId": "8780a5ee-a458-4389-8772-b89e2875fa92"
      },
      "outputs": [
        {
          "name": "stdout",
          "output_type": "stream",
          "text": [
            "The probability that someone who tested positive actually has the disease is: 0.1538\n"
          ]
        }
      ],
      "source": [
        "def bayesian_inference(sensitivity, false_positive_rate, prior):\n",
        "\n",
        "\n",
        "    p_disease = prior\n",
        "    p_positive_given_disease = sensitivity\n",
        "    p_positive_given_no_disease = false_positive_rate\n",
        "    p_no_disease = 1 - p_disease\n",
        "\n",
        "\n",
        "    p_positive = (p_positive_given_disease * p_disease) + (p_positive_given_no_disease * p_no_disease)\n",
        "\n",
        "\n",
        "    posterior = (p_positive_given_disease * p_disease) / p_positive\n",
        "\n",
        "    return posterior\n",
        "\n",
        "\n",
        "sensitivity = 0.9\n",
        "false_positive_rate = 0.05\n",
        "prior_probability = 0.01\n",
        "\n",
        "\n",
        "posterior_probability = bayesian_inference(sensitivity, false_positive_rate, prior_probability)\n",
        "\n",
        "print(f\"The probability that someone who tested positive actually has the disease is: {posterior_probability:.4f}\")"
      ]
    },
    {
      "cell_type": "markdown",
      "source": [
        "# **Assessment Task 3: Decision-Making Under Uncertainty**"
      ],
      "metadata": {
        "id": "dbvpbGmugvoY"
      }
    },
    {
      "cell_type": "code",
      "source": [
        "import random\n",
        "\n",
        "def calculate_expected_value(profit, loss, prob_profit):\n",
        "\n",
        "    prob_loss = 1 - prob_profit\n",
        "    expected_value = (profit * prob_profit) + (loss * prob_loss)\n",
        "    return expected_value\n",
        "\n",
        "def simulate_investment_decision():\n",
        "    print(\"Welcome to the Investment Decision Simulation!\")\n",
        "\n",
        "\n",
        "    print(\"\\nInvestment Option 1:\")\n",
        "    profit1 = float(input(\"Enter the potential profit for Investment Option 1: \"))\n",
        "    loss1 = float(input(\"Enter the potential loss for Investment Option 1: \"))\n",
        "    prob_profit1 = float(input(\"Enter the probability of profit for Investment Option 1 (0-1): \"))\n",
        "\n",
        "\n",
        "    print(\"\\nInvestment Option 2:\")\n",
        "    profit2 = float(input(\"Enter the potential profit for Investment Option 2: \"))\n",
        "    loss2 = float(input(\"Enter the potential loss for Investment Option 2: \"))\n",
        "    prob_profit2 = float(input(\"Enter the probability of profit for Investment Option 2 (0-1): \"))\n",
        "\n",
        "\n",
        "    expected_value1 = calculate_expected_value(profit1, loss1, prob_profit1)\n",
        "    expected_value2 = calculate_expected_value(profit2, loss2, prob_profit2)\n",
        "\n",
        "\n",
        "    print(f\"\\nExpected Value of Investment Option 1: {expected_value1:.2f}\")\n",
        "    print(f\"Expected Value of Investment Option 2: {expected_value2:.2f}\")\n",
        "\n",
        "\n",
        "    if expected_value1 > expected_value2:\n",
        "        print(\"\\nAI Decision: Choose Investment Option 1.\")\n",
        "        simulate_investment_outcome(profit1, loss1, prob_profit1)\n",
        "    elif expected_value2 > expected_value1:\n",
        "        print(\"\\nAI Decision: Choose Investment Option 2.\")\n",
        "        simulate_investment_outcome(profit2, loss2, prob_profit2)\n",
        "    else:\n",
        "        print(\"\\nAI Decision: Both options have equal expected value. Consider other factors.\")\n",
        "\n",
        "def simulate_investment_outcome(profit, loss, prob_profit):\n",
        "    \"\"\"Simulate the actual outcome of the chosen investment.\"\"\"\n",
        "\n",
        "    outcome = random.random() < prob_profit\n",
        "    if outcome:\n",
        "        print(f\"Outcome: You made a profit of ${profit:.2f}!\")\n",
        "    else:\n",
        "        print(f\"Outcome: You incurred a loss of ${loss:.2f}.\")\n",
        "\n",
        "\n",
        "simulate_investment_decision()"
      ],
      "metadata": {
        "colab": {
          "base_uri": "https://localhost:8080/"
        },
        "id": "L6qfa_brgwAW",
        "outputId": "66d9977b-6815-455e-d5ec-d79ffa608a4a"
      },
      "execution_count": null,
      "outputs": [
        {
          "metadata": {
            "tags": null
          },
          "name": "stdout",
          "output_type": "stream",
          "text": [
            "Welcome to the Investment Decision Simulation!\n",
            "\n",
            "Investment Option 1:\n",
            "\n",
            "Investment Option 2:\n"
          ]
        }
      ]
    },
    {
      "cell_type": "code",
      "source": [
        "import random\n",
        "\n",
        "def simulate_decision_process(probability_of_success, reward, penalty, iterations=1000):\n",
        "\n",
        "    total_earnings = 0\n",
        "\n",
        "    for _ in range(iterations):\n",
        "        if random.random() < probability_of_success:\n",
        "            total_earnings += reward\n",
        "        else:\n",
        "            total_earnings += penalty\n",
        "\n",
        "    return total_earnings\n",
        "\n",
        "def interactive_simulation():\n",
        "    print(\"Welcome to the Interactive Decision-Making Simulation!\")\n",
        "\n",
        "    while True:\n",
        "        try:\n",
        "\n",
        "            probability_of_success = float(input(\"Enter the probability of success (0-1) or -1 to exit: \"))\n",
        "            if probability_of_success == -1:\n",
        "                print(\"Exiting the simulation.\")\n",
        "                break\n",
        "\n",
        "            reward = float(input(\"Enter the reward for success: \"))\n",
        "            penalty = float(input(\"Enter the penalty for failure: \"))\n",
        "\n",
        "\n",
        "            if not (0 <= probability_of_success <= 1):\n",
        "                print(\"Error: Probability must be between 0 and 1.\")\n",
        "                continue\n",
        "\n",
        "\n",
        "            total_earnings = simulate_decision_process(probability_of_success, reward, penalty)\n",
        "\n",
        "\n",
        "            print(f\"\\nTotal earnings after {1000} iterations: ${total_earnings:.2f}\")\n",
        "\n",
        "        except ValueError:\n",
        "            print(\"Invalid input. Please enter numeric values.\")\n",
        "\n",
        "\n",
        "interactive_simulation()"
      ],
      "metadata": {
        "id": "OaBdlYI9gzc1"
      },
      "execution_count": null,
      "outputs": []
    },
    {
      "cell_type": "code",
      "source": [
        "import random\n",
        "\n",
        "def simulate_decision_process(probability_of_success, reward, penalty, iterations=1000):\n",
        "\n",
        "    total_earnings = 0\n",
        "\n",
        "    for _ in range(iterations):\n",
        "        if random.random() < probability_of_success:\n",
        "            total_earnings += reward\n",
        "        else:\n",
        "            total_earnings += penalty\n",
        "\n",
        "    return total_earnings\n",
        "\n",
        "def interactive_simulation():\n",
        "    print(\"Welcome to the Interactive Decision-Making Simulation!\")\n",
        "\n",
        "    while True:\n",
        "        try:\n",
        "\n",
        "            probability_of_success = float(input(\"Enter the probability of success (0-1) or -1 to exit: \"))\n",
        "            if probability_of_success == -1:\n",
        "                print(\"Exiting the simulation.\")\n",
        "                break\n",
        "\n",
        "            reward = float(input(\"Enter the reward for success: \"))\n",
        "            penalty = float(input(\"Enter the penalty for failure: \"))\n",
        "\n",
        "\n",
        "            if not (0 <= probability_of_success <= 1):\n",
        "                print(\"Error: Probability must be between 0 and 1.\")\n",
        "                continue\n",
        "\n",
        "\n",
        "            total_earnings = simulate_decision_process(probability_of_success, reward, penalty)\n",
        "\n",
        "\n",
        "            print(f\"\\nTotal earnings after {1000} iterations: ${total_earnings:.2f}\")\n",
        "\n",
        "        except ValueError:\n",
        "            print(\"Invalid input. Please enter numeric values.\")\n",
        "\n",
        "\n",
        "interactive_simulation()"
      ],
      "metadata": {
        "id": "HLOq6Do9g4XV"
      },
      "execution_count": null,
      "outputs": []
    },
    {
      "cell_type": "markdown",
      "source": [
        "# **Assessment Task 4: Real-World Scenario**"
      ],
      "metadata": {
        "id": "EHUvSQGmhA2i"
      }
    },
    {
      "cell_type": "code",
      "source": [
        "def predict_rain(humidity, cloud_cover):\n",
        "\n",
        "\n",
        "\n",
        "    base_probability_rain = 0.1\n",
        "\n",
        "\n",
        "    if humidity >= 80:\n",
        "        prob_humidity = 0.7\n",
        "    elif humidity >= 50:\n",
        "        prob_humidity = 0.4\n",
        "    else:\n",
        "        prob_humidity = 0.1\n",
        "\n",
        "\n",
        "    if cloud_cover >= 80:\n",
        "        prob_cloud_cover = 0.8\n",
        "    elif cloud_cover >= 50:\n",
        "        prob_cloud_cover = 0.5\n",
        "    else:\n",
        "        prob_cloud_cover = 0.2\n",
        "\n",
        "\n",
        "    probability_of_rain = base_probability_rain + (prob_humidity + prob_cloud_cover - base_probability_rain) / 2\n",
        "\n",
        "    return min(probability_of_rain, 1)\n",
        "\n",
        "def interactive_weather_prediction():\n",
        "    print(\"Welcome to the Rain Prediction Model!\")\n",
        "\n",
        "    while True:\n",
        "        try:\n",
        "\n",
        "            humidity = float(input(\"\\nEnter the humidity percentage (0-100) or -1 to exit: \"))\n",
        "            if humidity == -1:\n",
        "                print(\"Exiting the simulation.\")\n",
        "                break\n",
        "\n",
        "            cloud_cover = float(input(\"Enter the cloud cover percentage (0-100): \"))\n",
        "\n",
        "\n",
        "            if not (0 <= humidity <= 100) or not (0 <= cloud_cover <= 100):\n",
        "                print(\"Error: Humidity and Cloud Cover must be between 0 and 100.\")\n",
        "                continue\n",
        "\n",
        "\n",
        "            probability_of_rain = predict_rain(humidity, cloud_cover)\n",
        "\n",
        "\n",
        "            print(f\"\\nThe probability of rain is: {probability_of_rain:.2f} or {probability_of_rain * 100:.2f}%\")\n",
        "\n",
        "        except ValueError:\n",
        "            print(\"Invalid input. Please enter numeric values.\")\n",
        "\n",
        "\n",
        "interactive_weather_prediction()"
      ],
      "metadata": {
        "id": "zi6Og0H8hD-B"
      },
      "execution_count": null,
      "outputs": []
    },
    {
      "cell_type": "code",
      "source": [
        "import matplotlib.pyplot as plt\n",
        "\n",
        "def predict_rain(humidity, cloud_cover):\n",
        "\n",
        "\n",
        "\n",
        "    base_probability_rain = 0.1\n",
        "\n",
        "\n",
        "    if humidity >= 80:\n",
        "        prob_humidity = 0.7\n",
        "    elif humidity >= 50:\n",
        "        prob_humidity = 0.4\n",
        "    else:\n",
        "        prob_humidity = 0.1\n",
        "\n",
        "\n",
        "    if cloud_cover >= 80:\n",
        "        prob_cloud_cover = 0.8\n",
        "    elif cloud_cover >= 50:\n",
        "        prob_cloud_cover = 0.5\n",
        "    else:\n",
        "        prob_cloud_cover = 0.2\n",
        "\n",
        "\n",
        "    probability_of_rain = base_probability_rain + (prob_humidity + prob_cloud_cover - base_probability_rain) / 2\n",
        "\n",
        "    return min(probability_of_rain, 1)\n",
        "\n",
        "def interactive_weather_prediction():\n",
        "    print(\"Welcome to the Rain Prediction Model!\")\n",
        "\n",
        "\n",
        "    humidity_values = []\n",
        "    cloud_cover_values = []\n",
        "    rain_probabilities = []\n",
        "\n",
        "    while True:\n",
        "        try:\n",
        "\n",
        "            humidity = float(input(\"\\nEnter the humidity percentage (0-100) or -1 to exit: \"))\n",
        "            if humidity == -1:\n",
        "                print(\"Exiting the simulation.\")\n",
        "                break\n",
        "\n",
        "            cloud_cover = float(input(\"Enter the cloud cover percentage (0-100): \"))\n",
        "\n",
        "\n",
        "            if not (0 <= humidity <= 100) or not (0 <= cloud_cover <= 100):\n",
        "                print(\"Error: Humidity and Cloud Cover must be between 0 and 100.\")\n",
        "                continue\n",
        "\n",
        "\n",
        "            probability_of_rain = predict_rain(humidity, cloud_cover)\n",
        "\n",
        "\n",
        "            print(f\"\\nThe probability of rain is: {probability_of_rain:.2f} or {probability_of_rain * 100:.2f}%\")\n",
        "\n",
        "\n",
        "            humidity_values.append(humidity)\n",
        "            cloud_cover_values.append(cloud_cover)\n",
        "            rain_probabilities.append(probability_of_rain)\n",
        "\n",
        "\n",
        "            plt.figure(figsize=(10,6))\n",
        "            plt.scatter(humidity_values, rain_probabilities, color='blue', label='Probability vs Humidity', alpha=0.6)\n",
        "            plt.scatter(cloud_cover_values, rain_probabilities, color='red', label='Probability vs Cloud Cover', alpha=0.6)\n",
        "            plt.title('Rain Probability Prediction')\n",
        "            plt.xlabel('Humidity / Cloud Cover (%)')\n",
        "            plt.ylabel('Probability of Rain')\n",
        "            plt.xlim(0, 100)\n",
        "            plt.ylim(0, 1)\n",
        "            plt.axhline(y=probability_of_rain, color='green', linestyle='--', label=f'Current Probability: {probability_of_rain:.2f}')\n",
        "            plt.legend()\n",
        "            plt.grid()\n",
        "            plt.show()\n",
        "\n",
        "        except ValueError:\n",
        "            print(\"Invalid input. Please enter numeric values.\")\n",
        "\n",
        "\n",
        "interactive_weather_prediction()"
      ],
      "metadata": {
        "id": "6NDvDKwyhUO2"
      },
      "execution_count": null,
      "outputs": []
    },
    {
      "cell_type": "code",
      "source": [
        "def predict_rain(humidity, cloud_cover):\n",
        "\n",
        "\n",
        "\n",
        "    base_probability_rain = 0.1\n",
        "\n",
        "\n",
        "    if humidity >= 80:\n",
        "        prob_humidity = 0.7\n",
        "    elif humidity >= 50:\n",
        "        prob_humidity = 0.4\n",
        "    else:\n",
        "        prob_humidity = 0.1\n",
        "\n",
        "\n",
        "    if cloud_cover >= 80:\n",
        "        prob_cloud_cover = 0.8\n",
        "    elif cloud_cover >= 50:\n",
        "        prob_cloud_cover = 0.5\n",
        "    else:\n",
        "        prob_cloud_cover = 0.2\n",
        "\n",
        "\n",
        "    probability_of_rain = base_probability_rain + (prob_humidity + prob_cloud_cover - base_probability_rain) / 2\n",
        "\n",
        "    return min(probability_of_rain, 1)\n",
        "\n",
        "def interactive_weather_prediction():\n",
        "    print(\"Welcome to the Rain Prediction Model!\")\n",
        "\n",
        "    while True:\n",
        "        try:\n",
        "\n",
        "            humidity = float(input(\"\\nEnter the humidity percentage (0-100) or -1 to exit: \"))\n",
        "            if humidity == -1:\n",
        "                print(\"Exiting the simulation.\")\n",
        "                break\n",
        "\n",
        "            cloud_cover = float(input(\"Enter the cloud cover percentage (0-100): \"))\n",
        "\n",
        "\n",
        "            if not (0 <= humidity <= 100) or not (0 <= cloud_cover <= 100):\n",
        "                print(\"Error: Humidity and Cloud Cover must be between 0 and 100.\")\n",
        "                continue\n",
        "\n",
        "\n",
        "            probability_of_rain = predict_rain(humidity, cloud_cover)\n",
        "\n",
        "\n",
        "            print(f\"\\nThe probability of rain is: {probability_of_rain:.2f} or {probability_of_rain * 100:.2f}%\")\n",
        "\n",
        "        except ValueError:\n",
        "            print(\"Invalid input. Please enter numeric values.\")\n",
        "\n",
        "\n",
        "interactive_weather_prediction()"
      ],
      "metadata": {
        "id": "dyEC7bCrhLFY"
      },
      "execution_count": null,
      "outputs": []
    },
    {
      "cell_type": "markdown",
      "source": [
        "Feedback on How Evidence Affects Predictions\n",
        "\n",
        "Base Probability: The model starts with a base probability of rain (10%) that serves as a foundation for further adjustments based on user inputs.\n",
        "\n",
        "Humidity Influence:\n",
        "Higher humidity levels increase the likelihood of rain significantly.\n",
        "\n",
        "For instance, at a humidity level above 80%, there’s a 70% chance of rain.\n",
        "\n",
        "This reflects real-world meteorological observations where moisture in the air is crucial for precipitation.\n",
        "\n",
        "Cloud Cover Influence:\n",
        "Similarly, higher cloud cover increases the likelihood of rain.\n",
        "If cloud cover exceeds 80%, it suggests that clouds are dense enough to produce precipitation.\n",
        "\n",
        "Dynamic Visualization:\n",
        "The scatter plot visually represents how different inputs affect predictions.\n",
        "\n",
        "Users can see trends in how increasing either factor correlates with increased probabilities of rainfall.\n",
        "\n",
        "The horizontal line indicating current probability provides immediate feedback on how changes in conditions influence predictions.\n",
        "\n",
        "By interacting with this model, users can gain insights into meteorological principles and understand how environmental factors influence weather predictions through conditional probabilities."
      ],
      "metadata": {
        "id": "yBSrKWt-kTd8"
      }
    },
    {
      "cell_type": "markdown",
      "source": [
        "# **Assessment Task 5: Probability Distributions Visualization**"
      ],
      "metadata": {
        "id": "hqeOpk78lYU_"
      }
    },
    {
      "cell_type": "code",
      "source": [
        "import numpy as np\n",
        "import matplotlib.pyplot as plt\n",
        "from scipy.stats import binom, norm\n",
        "\n",
        "n = 20\n",
        "p = 0.5\n",
        "\n",
        "x_binom = np.arange(0, n + 1)\n",
        "binom_pmf = binom.pmf(x_binom, n, p)\n",
        "\n",
        "plt.figure(figsize=(12, 6))\n",
        "plt.subplot(1, 2, 1)\n",
        "plt.bar(x_binom, binom_pmf, color='blue', alpha=0.7, label='Binomial PMF')\n",
        "plt.title('Binomial Distribution PMF (n=20, p=0.5)')\n",
        "plt.xlabel('Number of Successes')\n",
        "plt.ylabel('Probability')\n",
        "plt.xticks(x_binom)\n",
        "plt.grid(axis='y')\n",
        "plt.legend()\n",
        "\n",
        "mu = n * p\n",
        "sigma = np.sqrt(n * p * (1 - p))\n",
        "\n",
        "x_norm = np.linspace(mu - 4*sigma, mu + 4*sigma, 1000)\n",
        "norm_pdf = norm.pdf(x_norm, mu, sigma)\n",
        "\n",
        "plt.subplot(1, 2, 2)\n",
        "plt.plot(x_norm, norm_pdf, color='red', label='Normal PDF', lw=2)\n",
        "plt.title('Normal Distribution Approximation (n=20, p=0.5)')\n",
        "plt.xlabel('Value')\n",
        "plt.ylabel('Density')\n",
        "plt.grid()\n",
        "plt.legend()\n",
        "\n",
        "plt.tight_layout()\n",
        "plt.show()"
      ],
      "metadata": {
        "id": "OXOp8K9hlL1B"
      },
      "execution_count": null,
      "outputs": []
    },
    {
      "cell_type": "code",
      "source": [
        "import numpy as np\n",
        "import matplotlib.pyplot as plt\n",
        "from scipy.stats import binom\n",
        "\n",
        "n = 1000\n",
        "p = 0.5\n",
        "\n",
        "outcomes = binom.rvs(1, p, size=n)\n",
        "heads = np.sum(outcomes)\n",
        "\n",
        "x = np.arange(0, n + 1)\n",
        "binom_pmf = binom.pmf(x, n, p)\n",
        "\n",
        "plt.figure(figsize=(8, 6))\n",
        "plt.bar(x, binom_pmf, color='blue', alpha=0.7, label='Binomial PMF')\n",
        "plt.axvline(heads, color='red', linestyle='--', label=f'Number of Heads ({heads})')\n",
        "plt.title(f'Simulated Coin Flips (n={n}, p={p})')\n",
        "plt.xlabel('Number of Heads')\n",
        "plt.ylabel('Probability')\n",
        "plt.xticks(np.arange(0, n + 1, step=50))\n",
        "plt.grid(axis='y')\n",
        "plt.legend()\n",
        "plt.show()"
      ],
      "metadata": {
        "id": "UFvGWIAxluRp"
      },
      "execution_count": null,
      "outputs": []
    },
    {
      "cell_type": "code",
      "source": [
        "import numpy as np\n",
        "import matplotlib.pyplot as plt\n",
        "from scipy.stats import binom, norm\n",
        "\n",
        "def plot_distributions(n, p):\n",
        "    x_binom = np.arange(0, n + 1)\n",
        "    binom_pmf = binom.pmf(x_binom, n, p)\n",
        "\n",
        "    mu = n * p\n",
        "    sigma = np.sqrt(n * p * (1 - p))\n",
        "    x_norm = np.linspace(mu - 4*sigma, mu + 4*sigma, 1000)\n",
        "    norm_pdf = norm.pdf(x_norm, mu, sigma)\n",
        "\n",
        "    plt.figure(figsize=(12, 6))\n",
        "    plt.subplot(1, 2, 1)\n",
        "    plt.bar(x_binom, binom_pmf, color='blue', alpha=0.7, label='Binomial PMF')\n",
        "    plt.title('Binomial Distribution')\n",
        "    plt.xlabel('Number of Successes')\n",
        "    plt.ylabel('Probability')\n",
        "    plt.xticks(x_binom)\n",
        "    plt.grid(axis='y')\n",
        "    plt.legend()\n",
        "\n",
        "    plt.subplot(1, 2, 2)\n",
        "    plt.plot(x_norm, norm_pdf, color='red', label='Normal PDF', lw=2)\n",
        "    plt.title('Normal Distribution Approximation')\n",
        "    plt.xlabel('Value')\n",
        "    plt.ylabel('Density')\n",
        "    plt.grid()\n",
        "    plt.legend()\n",
        "\n",
        "    plt.tight_layout()\n",
        "    plt.show()\n",
        "\n",
        "n = int(input(\"Enter the number of trials (n): \"))\n",
        "p = float(input(\"Enter the probability of success (p): \"))\n",
        "\n",
        "plot_distributions(n, p)"
      ],
      "metadata": {
        "id": "n50juk1Ol1wr"
      },
      "execution_count": null,
      "outputs": []
    }
  ],
  "metadata": {
    "colab": {
      "provenance": []
    },
    "kernelspec": {
      "display_name": "Python 3",
      "name": "python3"
    },
    "language_info": {
      "name": "python"
    }
  },
  "nbformat": 4,
  "nbformat_minor": 0
}