{
  "nbformat": 4,
  "nbformat_minor": 0,
  "metadata": {
    "colab": {
      "provenance": []
    },
    "kernelspec": {
      "name": "python3",
      "display_name": "Python 3"
    },
    "language_info": {
      "name": "python"
    }
  },
  "cells": [
    {
      "cell_type": "markdown",
      "source": [
        "# 1 Propositional Logic Operations:"
      ],
      "metadata": {
        "id": "Ui6c2yg0vdE6"
      }
    },
    {
      "cell_type": "code",
      "execution_count": 5,
      "metadata": {
        "id": "wshpipixvaDc"
      },
      "outputs": [],
      "source": [
        "def and_operation(p, q):\n",
        "\n",
        "  return p and q\n",
        "def or_operation(p, q):\n",
        "\n",
        "  return p or q\n",
        "def not_operation(p):\n",
        "\n",
        "  return not p\n",
        "def implies_operation(p, q):\n",
        "\n",
        "  return not p or q"
      ]
    },
    {
      "cell_type": "code",
      "source": [
        "def and_operation(p, q):\n",
        "  return p and q\n",
        "def or_operation(p, q):\n",
        "  return p or q\n",
        "def not_operation(p):\n",
        "  return not p\n",
        "def implies_operation(p, q):\n",
        "\n",
        "  return not p or q\n",
        "# Example usage\n",
        "p = True\n",
        "q = False\n",
        "print(\"AND:\", and_operation(p, q)) # Output: False\n",
        "print(\"OR:\", or_operation(p, q)) # Output: True\n",
        "print(\"NOT p:\", not_operation(p)) # Output: False\n",
        "print(\"p IMPLIES q:\", implies_operation(p, q)) # Output: False"
      ],
      "metadata": {
        "colab": {
          "base_uri": "https://localhost:8080/"
        },
        "id": "6xC_2WgGvpEd",
        "outputId": "d5fd5473-2c13-4d9a-fb5c-fcea510da8ea"
      },
      "execution_count": 6,
      "outputs": [
        {
          "output_type": "stream",
          "name": "stdout",
          "text": [
            "AND: False\n",
            "OR: True\n",
            "NOT p: False\n",
            "p IMPLIES q: False\n"
          ]
        }
      ]
    },
    {
      "cell_type": "markdown",
      "source": [
        "# 2 Evaluate Logical Statements:"
      ],
      "metadata": {
        "id": "5s_qkFyovz2j"
      }
    },
    {
      "cell_type": "code",
      "source": [
        "def evaluate(statement, values):\n",
        "  return eval(statement, {}, values)"
      ],
      "metadata": {
        "id": "BFrBo5bHv0wj"
      },
      "execution_count": 7,
      "outputs": []
    },
    {
      "cell_type": "code",
      "source": [
        "values = {'p': True, 'q': False}\n",
        "statement = 'p and not q'\n",
        "# Evaluate the logical statement using the provided truth values\n",
        "print(\"Evaluation of statement:\", evaluate(statement, values))"
      ],
      "metadata": {
        "colab": {
          "base_uri": "https://localhost:8080/"
        },
        "id": "jNxDYrezv4pr",
        "outputId": "f51441c5-850f-429a-855b-001734b88533"
      },
      "execution_count": 8,
      "outputs": [
        {
          "output_type": "stream",
          "name": "stdout",
          "text": [
            "Evaluation of statement: True\n"
          ]
        }
      ]
    },
    {
      "cell_type": "markdown",
      "source": [
        "# 3 Extend to Predicate Logic:"
      ],
      "metadata": {
        "id": "wIddFHIwv8ja"
      }
    },
    {
      "cell_type": "code",
      "source": [
        "def forall(predicate, domain):\n",
        "  return all(predicate(x) for x in domain)\n",
        "def exists(predicate, domain):\n",
        "  return any(predicate(x) for x in domain)"
      ],
      "metadata": {
        "id": "NiuqjDJjv6mM"
      },
      "execution_count": 10,
      "outputs": []
    },
    {
      "cell_type": "code",
      "source": [
        "def is_even(x):\n",
        "  return x % 2 == 0\n",
        "domain = range(10) # Define the domain of numbers from 0 to 9\n",
        "# Check if all numbers in the domain are even\n",
        "print(\"For all even:\", forall(is_even, domain)) # False\n",
        "# Check if there exists at least one even number in the domain\n",
        "print(\"Exists even:\", exists(is_even, domain)) # True"
      ],
      "metadata": {
        "colab": {
          "base_uri": "https://localhost:8080/"
        },
        "id": "Q0RGUF0AvpxN",
        "outputId": "6d1d97c3-a169-4cb8-a065-d23dd52358f9"
      },
      "execution_count": 11,
      "outputs": [
        {
          "output_type": "stream",
          "name": "stdout",
          "text": [
            "For all even: False\n",
            "Exists even: True\n"
          ]
        }
      ]
    },
    {
      "cell_type": "markdown",
      "source": [
        "# 4 AI Agent Development:"
      ],
      "metadata": {
        "id": "FalTuappwH3P"
      }
    },
    {
      "cell_type": "code",
      "source": [
        "class SimpleDecisionAgent:\n",
        "    def __init__(self, position, obstacles):\n",
        "        self.position = position  # Current position of the agent as (x, y)\n",
        "        self.obstacles = obstacles  # List of obstacle positions\n",
        "\n",
        "    def decide_action(self):\n",
        "        # Define possible moves based on the current position\n",
        "        forward = (self.position[0], self.position[1] + 1)  # Move forward (up)\n",
        "        left = (self.position[0] - 1, self.position[1])     # Turn left (left)\n",
        "        right = (self.position[0] + 1, self.position[1])    # Turn right (right)\n",
        "\n",
        "        # Check if the forward position is clear\n",
        "        if forward not in self.obstacles:\n",
        "            return \"Move Forward\"\n",
        "        # Check if the left position is clear\n",
        "        elif left not in self.obstacles:\n",
        "            return \"Turn Left\"\n",
        "        # Check if the right position is clear\n",
        "        elif right not in self.obstacles:\n",
        "            return \"Turn Right\"\n",
        "        # If all directions are blocked, stay in place\n",
        "        else:\n",
        "            return \"Stay in Place\"\n",
        "\n",
        "# Example usage\n",
        "initial_position = (2, 2)  # Starting position of the agent\n",
        "obstacle_positions = [(2, 3), (1, 2), (3, 2)]  # Obstacles in the grid\n",
        "\n",
        "agent = SimpleDecisionAgent(initial_position, obstacle_positions)\n",
        "\n",
        "# Decide the next action based on the current position and obstacles\n",
        "next_action = agent.decide_action()\n",
        "print(\"Next Action:\", next_action)  # Output will depend on the current position and obstacles"
      ],
      "metadata": {
        "colab": {
          "base_uri": "https://localhost:8080/"
        },
        "id": "AcvDAzm8wFvY",
        "outputId": "9fcd8c46-ce1f-495d-9961-270d8d7d5a37"
      },
      "execution_count": 23,
      "outputs": [
        {
          "output_type": "stream",
          "name": "stdout",
          "text": [
            "Next Action: Stay in Place\n"
          ]
        }
      ]
    },
    {
      "cell_type": "code",
      "source": [],
      "metadata": {
        "id": "Im44HFS-wMwX"
      },
      "execution_count": null,
      "outputs": []
    }
  ]
}